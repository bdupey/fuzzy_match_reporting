{
 "cells": [
  {
   "cell_type": "code",
   "execution_count": 1,
   "id": "31110589",
   "metadata": {
    "execution": {
     "iopub.execute_input": "2023-05-16T14:08:52.878614Z",
     "iopub.status.busy": "2023-05-16T14:08:52.877933Z",
     "iopub.status.idle": "2023-05-16T14:08:55.054782Z",
     "shell.execute_reply": "2023-05-16T14:08:55.053565Z"
    },
    "papermill": {
     "duration": 2.188849,
     "end_time": "2023-05-16T14:08:55.057988",
     "exception": false,
     "start_time": "2023-05-16T14:08:52.869139",
     "status": "completed"
    },
    "tags": []
   },
   "outputs": [
    {
     "name": "stderr",
     "output_type": "stream",
     "text": [
      "/opt/conda/lib/python3.10/site-packages/scipy/__init__.py:146: UserWarning: A NumPy version >=1.16.5 and <1.23.0 is required for this version of SciPy (detected version 1.23.5\n",
      "  warnings.warn(f\"A NumPy version >={np_minversion} and <{np_maxversion}\"\n"
     ]
    }
   ],
   "source": [
    "## Importing libraries needed.\n",
    "\n",
    "from fuzzywuzzy import fuzz, process\n",
    "import pandas as pd\n",
    "import nltk\n",
    "from nltk.corpus import stopwords\n",
    "from nltk.stem import SnowballStemmer\n",
    "import numpy as np\n",
    "from itertools import zip_longest\n",
    "import re"
   ]
  },
  {
   "cell_type": "markdown",
   "id": "6dfba8f1",
   "metadata": {
    "papermill": {
     "duration": 0.00629,
     "end_time": "2023-05-16T14:08:55.071194",
     "exception": false,
     "start_time": "2023-05-16T14:08:55.064904",
     "status": "completed"
    },
    "tags": []
   },
   "source": [
    "## Prior to starting this process, download a salesforce CSV report of the Accounts objects. Save this file as a CSV UTF-8"
   ]
  },
  {
   "cell_type": "code",
   "execution_count": 2,
   "id": "f8813f0c",
   "metadata": {
    "execution": {
     "iopub.execute_input": "2023-05-16T14:08:55.086661Z",
     "iopub.status.busy": "2023-05-16T14:08:55.086026Z",
     "iopub.status.idle": "2023-05-16T14:08:55.108445Z",
     "shell.execute_reply": "2023-05-16T14:08:55.107226Z"
    },
    "papermill": {
     "duration": 0.033411,
     "end_time": "2023-05-16T14:08:55.111240",
     "exception": false,
     "start_time": "2023-05-16T14:08:55.077829",
     "status": "completed"
    },
    "tags": []
   },
   "outputs": [],
   "source": [
    "## Read csv report from salesforce and store as acct object.\n",
    "\n",
    "acct=pd.read_csv('/kaggle/input/example-data/accounts_example.csv')"
   ]
  },
  {
   "cell_type": "code",
   "execution_count": 3,
   "id": "1f327cfb",
   "metadata": {
    "execution": {
     "iopub.execute_input": "2023-05-16T14:08:55.126773Z",
     "iopub.status.busy": "2023-05-16T14:08:55.126355Z",
     "iopub.status.idle": "2023-05-16T14:08:55.159600Z",
     "shell.execute_reply": "2023-05-16T14:08:55.158409Z"
    },
    "papermill": {
     "duration": 0.044162,
     "end_time": "2023-05-16T14:08:55.162287",
     "exception": false,
     "start_time": "2023-05-16T14:08:55.118125",
     "status": "completed"
    },
    "tags": []
   },
   "outputs": [
    {
     "data": {
      "text/html": [
       "<div>\n",
       "<style scoped>\n",
       "    .dataframe tbody tr th:only-of-type {\n",
       "        vertical-align: middle;\n",
       "    }\n",
       "\n",
       "    .dataframe tbody tr th {\n",
       "        vertical-align: top;\n",
       "    }\n",
       "\n",
       "    .dataframe thead th {\n",
       "        text-align: right;\n",
       "    }\n",
       "</style>\n",
       "<table border=\"1\" class=\"dataframe\">\n",
       "  <thead>\n",
       "    <tr style=\"text-align: right;\">\n",
       "      <th></th>\n",
       "      <th>Account Owner</th>\n",
       "      <th>Account Name</th>\n",
       "      <th>Billing State/Province (text only)</th>\n",
       "    </tr>\n",
       "  </thead>\n",
       "  <tbody>\n",
       "    <tr>\n",
       "      <th>0</th>\n",
       "      <td>John Smith</td>\n",
       "      <td>Example 1 - Lowkey Enterprises</td>\n",
       "      <td>Iowa</td>\n",
       "    </tr>\n",
       "    <tr>\n",
       "      <th>1</th>\n",
       "      <td>John Smith</td>\n",
       "      <td>Example 1 - Lowkey</td>\n",
       "      <td>Iowa</td>\n",
       "    </tr>\n",
       "    <tr>\n",
       "      <th>2</th>\n",
       "      <td>John Smith</td>\n",
       "      <td>Example 1 - Lowkey Enterprises, Inc.</td>\n",
       "      <td>Iowa</td>\n",
       "    </tr>\n",
       "    <tr>\n",
       "      <th>3</th>\n",
       "      <td>Jane Smith</td>\n",
       "      <td>Example 2 - Rational Workings</td>\n",
       "      <td>Minnesota</td>\n",
       "    </tr>\n",
       "    <tr>\n",
       "      <th>4</th>\n",
       "      <td>Jane Smith</td>\n",
       "      <td>Example 2 - Ratoinal Wrokings</td>\n",
       "      <td>Minnesota</td>\n",
       "    </tr>\n",
       "  </tbody>\n",
       "</table>\n",
       "</div>"
      ],
      "text/plain": [
       "  Account Owner                          Account Name  \\\n",
       "0    John Smith        Example 1 - Lowkey Enterprises   \n",
       "1    John Smith                    Example 1 - Lowkey   \n",
       "2    John Smith  Example 1 - Lowkey Enterprises, Inc.   \n",
       "3    Jane Smith         Example 2 - Rational Workings   \n",
       "4    Jane Smith         Example 2 - Ratoinal Wrokings   \n",
       "\n",
       "  Billing State/Province (text only)  \n",
       "0                               Iowa  \n",
       "1                               Iowa  \n",
       "2                               Iowa  \n",
       "3                          Minnesota  \n",
       "4                          Minnesota  "
      ]
     },
     "execution_count": 3,
     "metadata": {},
     "output_type": "execute_result"
    }
   ],
   "source": [
    "## View head of dataframe to make sure it was imported correctly. \n",
    "\n",
    "acct.head()"
   ]
  },
  {
   "cell_type": "code",
   "execution_count": 4,
   "id": "1687d4e7",
   "metadata": {
    "execution": {
     "iopub.execute_input": "2023-05-16T14:08:55.178534Z",
     "iopub.status.busy": "2023-05-16T14:08:55.177815Z",
     "iopub.status.idle": "2023-05-16T14:08:55.184440Z",
     "shell.execute_reply": "2023-05-16T14:08:55.183315Z"
    },
    "papermill": {
     "duration": 0.017276,
     "end_time": "2023-05-16T14:08:55.186677",
     "exception": false,
     "start_time": "2023-05-16T14:08:55.169401",
     "status": "completed"
    },
    "tags": []
   },
   "outputs": [
    {
     "data": {
      "text/plain": [
       "(6, 3)"
      ]
     },
     "execution_count": 4,
     "metadata": {},
     "output_type": "execute_result"
    }
   ],
   "source": [
    "## View shape of original dataframe for reference throughout job.\n",
    "\n",
    "acct.shape"
   ]
  },
  {
   "cell_type": "code",
   "execution_count": 5,
   "id": "dd682208",
   "metadata": {
    "execution": {
     "iopub.execute_input": "2023-05-16T14:08:55.203870Z",
     "iopub.status.busy": "2023-05-16T14:08:55.202903Z",
     "iopub.status.idle": "2023-05-16T14:08:55.215455Z",
     "shell.execute_reply": "2023-05-16T14:08:55.214290Z"
    },
    "papermill": {
     "duration": 0.023762,
     "end_time": "2023-05-16T14:08:55.218014",
     "exception": false,
     "start_time": "2023-05-16T14:08:55.194252",
     "status": "completed"
    },
    "tags": []
   },
   "outputs": [
    {
     "data": {
      "text/html": [
       "<div>\n",
       "<style scoped>\n",
       "    .dataframe tbody tr th:only-of-type {\n",
       "        vertical-align: middle;\n",
       "    }\n",
       "\n",
       "    .dataframe tbody tr th {\n",
       "        vertical-align: top;\n",
       "    }\n",
       "\n",
       "    .dataframe thead th {\n",
       "        text-align: right;\n",
       "    }\n",
       "</style>\n",
       "<table border=\"1\" class=\"dataframe\">\n",
       "  <thead>\n",
       "    <tr style=\"text-align: right;\">\n",
       "      <th></th>\n",
       "      <th>Account Owner</th>\n",
       "      <th>Account Name</th>\n",
       "      <th>Billing State/Province (text only)</th>\n",
       "      <th>co</th>\n",
       "    </tr>\n",
       "  </thead>\n",
       "  <tbody>\n",
       "    <tr>\n",
       "      <th>0</th>\n",
       "      <td>John Smith</td>\n",
       "      <td>Example 1 - Lowkey Enterprises</td>\n",
       "      <td>Iowa</td>\n",
       "      <td>Example 1 - Lowkey Enterprises</td>\n",
       "    </tr>\n",
       "    <tr>\n",
       "      <th>1</th>\n",
       "      <td>John Smith</td>\n",
       "      <td>Example 1 - Lowkey</td>\n",
       "      <td>Iowa</td>\n",
       "      <td>Example 1 - Lowkey</td>\n",
       "    </tr>\n",
       "    <tr>\n",
       "      <th>2</th>\n",
       "      <td>John Smith</td>\n",
       "      <td>Example 1 - Lowkey Enterprises, Inc.</td>\n",
       "      <td>Iowa</td>\n",
       "      <td>Example 1 - Lowkey Enterprises, Inc.</td>\n",
       "    </tr>\n",
       "    <tr>\n",
       "      <th>3</th>\n",
       "      <td>Jane Smith</td>\n",
       "      <td>Example 2 - Rational Workings</td>\n",
       "      <td>Minnesota</td>\n",
       "      <td>Example 2 - Rational Workings</td>\n",
       "    </tr>\n",
       "    <tr>\n",
       "      <th>4</th>\n",
       "      <td>Jane Smith</td>\n",
       "      <td>Example 2 - Ratoinal Wrokings</td>\n",
       "      <td>Minnesota</td>\n",
       "      <td>Example 2 - Ratoinal Wrokings</td>\n",
       "    </tr>\n",
       "  </tbody>\n",
       "</table>\n",
       "</div>"
      ],
      "text/plain": [
       "  Account Owner                          Account Name  \\\n",
       "0    John Smith        Example 1 - Lowkey Enterprises   \n",
       "1    John Smith                    Example 1 - Lowkey   \n",
       "2    John Smith  Example 1 - Lowkey Enterprises, Inc.   \n",
       "3    Jane Smith         Example 2 - Rational Workings   \n",
       "4    Jane Smith         Example 2 - Ratoinal Wrokings   \n",
       "\n",
       "  Billing State/Province (text only)                                    co  \n",
       "0                               Iowa        Example 1 - Lowkey Enterprises  \n",
       "1                               Iowa                    Example 1 - Lowkey  \n",
       "2                               Iowa  Example 1 - Lowkey Enterprises, Inc.  \n",
       "3                          Minnesota         Example 2 - Rational Workings  \n",
       "4                          Minnesota         Example 2 - Ratoinal Wrokings  "
      ]
     },
     "execution_count": 5,
     "metadata": {},
     "output_type": "execute_result"
    }
   ],
   "source": [
    "## Duplicate Account Name column for manipulation. View head to make sure new column was added successfully.\n",
    "\n",
    "acct['co']=acct.loc[:,'Account Name']\n",
    "acct.head()"
   ]
  },
  {
   "cell_type": "code",
   "execution_count": 6,
   "id": "285343d1",
   "metadata": {
    "execution": {
     "iopub.execute_input": "2023-05-16T14:08:55.235607Z",
     "iopub.status.busy": "2023-05-16T14:08:55.234910Z",
     "iopub.status.idle": "2023-05-16T14:08:55.247049Z",
     "shell.execute_reply": "2023-05-16T14:08:55.246170Z"
    },
    "papermill": {
     "duration": 0.023754,
     "end_time": "2023-05-16T14:08:55.249379",
     "exception": false,
     "start_time": "2023-05-16T14:08:55.225625",
     "status": "completed"
    },
    "tags": []
   },
   "outputs": [
    {
     "data": {
      "text/html": [
       "<div>\n",
       "<style scoped>\n",
       "    .dataframe tbody tr th:only-of-type {\n",
       "        vertical-align: middle;\n",
       "    }\n",
       "\n",
       "    .dataframe tbody tr th {\n",
       "        vertical-align: top;\n",
       "    }\n",
       "\n",
       "    .dataframe thead th {\n",
       "        text-align: right;\n",
       "    }\n",
       "</style>\n",
       "<table border=\"1\" class=\"dataframe\">\n",
       "  <thead>\n",
       "    <tr style=\"text-align: right;\">\n",
       "      <th></th>\n",
       "      <th>Account Owner</th>\n",
       "      <th>Account Name</th>\n",
       "      <th>Billing State/Province (text only)</th>\n",
       "      <th>co</th>\n",
       "    </tr>\n",
       "  </thead>\n",
       "  <tbody>\n",
       "    <tr>\n",
       "      <th>0</th>\n",
       "      <td>John Smith</td>\n",
       "      <td>Example 1 - Lowkey Enterprises</td>\n",
       "      <td>Iowa</td>\n",
       "      <td>example 1 - lowkey enterprises</td>\n",
       "    </tr>\n",
       "    <tr>\n",
       "      <th>1</th>\n",
       "      <td>John Smith</td>\n",
       "      <td>Example 1 - Lowkey</td>\n",
       "      <td>Iowa</td>\n",
       "      <td>example 1 - lowkey</td>\n",
       "    </tr>\n",
       "    <tr>\n",
       "      <th>2</th>\n",
       "      <td>John Smith</td>\n",
       "      <td>Example 1 - Lowkey Enterprises, Inc.</td>\n",
       "      <td>Iowa</td>\n",
       "      <td>example 1 - lowkey enterprises, inc.</td>\n",
       "    </tr>\n",
       "    <tr>\n",
       "      <th>3</th>\n",
       "      <td>Jane Smith</td>\n",
       "      <td>Example 2 - Rational Workings</td>\n",
       "      <td>Minnesota</td>\n",
       "      <td>example 2 - rational workings</td>\n",
       "    </tr>\n",
       "    <tr>\n",
       "      <th>4</th>\n",
       "      <td>Jane Smith</td>\n",
       "      <td>Example 2 - Ratoinal Wrokings</td>\n",
       "      <td>Minnesota</td>\n",
       "      <td>example 2 - ratoinal wrokings</td>\n",
       "    </tr>\n",
       "  </tbody>\n",
       "</table>\n",
       "</div>"
      ],
      "text/plain": [
       "  Account Owner                          Account Name  \\\n",
       "0    John Smith        Example 1 - Lowkey Enterprises   \n",
       "1    John Smith                    Example 1 - Lowkey   \n",
       "2    John Smith  Example 1 - Lowkey Enterprises, Inc.   \n",
       "3    Jane Smith         Example 2 - Rational Workings   \n",
       "4    Jane Smith         Example 2 - Ratoinal Wrokings   \n",
       "\n",
       "  Billing State/Province (text only)                                    co  \n",
       "0                               Iowa        example 1 - lowkey enterprises  \n",
       "1                               Iowa                    example 1 - lowkey  \n",
       "2                               Iowa  example 1 - lowkey enterprises, inc.  \n",
       "3                          Minnesota         example 2 - rational workings  \n",
       "4                          Minnesota         example 2 - ratoinal wrokings  "
      ]
     },
     "execution_count": 6,
     "metadata": {},
     "output_type": "execute_result"
    }
   ],
   "source": [
    "## Remove all uppercase letters from 'co' column. View head to make sure change was applied properly.\n",
    "\n",
    "acct['co']=acct['co'].apply(str.lower)\n",
    "acct.head()"
   ]
  },
  {
   "cell_type": "code",
   "execution_count": 7,
   "id": "f6ea9308",
   "metadata": {
    "execution": {
     "iopub.execute_input": "2023-05-16T14:08:55.268107Z",
     "iopub.status.busy": "2023-05-16T14:08:55.267333Z",
     "iopub.status.idle": "2023-05-16T14:08:55.280969Z",
     "shell.execute_reply": "2023-05-16T14:08:55.280001Z"
    },
    "papermill": {
     "duration": 0.026073,
     "end_time": "2023-05-16T14:08:55.283668",
     "exception": false,
     "start_time": "2023-05-16T14:08:55.257595",
     "status": "completed"
    },
    "tags": []
   },
   "outputs": [],
   "source": [
    "## Removing all punctuation and common words from 'co' column prior to performing\n",
    "## fuzzy match comparison. These common words conflict with the fuzzy match algorithm\n",
    "## and therefore must be removed. \n",
    "\n",
    "unwanted = '[\\.,\\-\\/&]'\n",
    "substitutions = {' inc': '', ' incorporated': '', ' llc': '', ' pllc': '',\n",
    "                 ' corp': '', ' corporation': '', ' group': '', ' logistics': '',\n",
    "                 'logistics ': '', ' insurance': '', ' associates': '', ' company': '',\n",
    "                 ' service': '', ' services': '', ' enterprises': '', ' enterprise': '',\n",
    "                 ' solutions': '', ' contractors': '', ' contractor': '', \n",
    "                 ' contracting': '', ' manufacturing': '', ' mechanical': '',\n",
    "                ' delivery': '', ' companies': '', ' electric': '', \n",
    "                ' industries': '', ' construction': '', ' transport': '',\n",
    "                ' engineering': '', ' constructors': '', ' holdings': '',\n",
    "                ' international': '', ' transportation': '', ' management': '',\n",
    "                ' distribution': ''}\n",
    "\n",
    "pattern = re.compile('|'.join(substitutions.keys()))\n",
    "\n",
    "def clean_company_name(name):\n",
    "    name = name.lower().strip()\n",
    "    name = re.sub(unwanted, ' ', name)\n",
    "    name = pattern.sub(lambda x: substitutions[x.group()], name)\n",
    "    name = name.replace(' ', '')\n",
    "    return name.strip()\n",
    "\n",
    "acct['co'] = acct['co'].apply(clean_company_name)\n"
   ]
  },
  {
   "cell_type": "code",
   "execution_count": 8,
   "id": "74ecb20f",
   "metadata": {
    "execution": {
     "iopub.execute_input": "2023-05-16T14:08:55.302073Z",
     "iopub.status.busy": "2023-05-16T14:08:55.301254Z",
     "iopub.status.idle": "2023-05-16T14:08:55.307234Z",
     "shell.execute_reply": "2023-05-16T14:08:55.306126Z"
    },
    "papermill": {
     "duration": 0.018229,
     "end_time": "2023-05-16T14:08:55.309716",
     "exception": false,
     "start_time": "2023-05-16T14:08:55.291487",
     "status": "completed"
    },
    "tags": []
   },
   "outputs": [],
   "source": [
    "## Removing instances of more than one space from entries in the 'co' column.\n",
    "\n",
    "acct['co']=acct['co'].str.replace(r'\\s{2,}', '', regex=True)\n"
   ]
  },
  {
   "cell_type": "code",
   "execution_count": 9,
   "id": "7a606c12",
   "metadata": {
    "execution": {
     "iopub.execute_input": "2023-05-16T14:08:55.327264Z",
     "iopub.status.busy": "2023-05-16T14:08:55.326434Z",
     "iopub.status.idle": "2023-05-16T14:08:55.346929Z",
     "shell.execute_reply": "2023-05-16T14:08:55.345865Z"
    },
    "papermill": {
     "duration": 0.031849,
     "end_time": "2023-05-16T14:08:55.349356",
     "exception": false,
     "start_time": "2023-05-16T14:08:55.317507",
     "status": "completed"
    },
    "tags": []
   },
   "outputs": [
    {
     "data": {
      "text/html": [
       "<div>\n",
       "<style scoped>\n",
       "    .dataframe tbody tr th:only-of-type {\n",
       "        vertical-align: middle;\n",
       "    }\n",
       "\n",
       "    .dataframe tbody tr th {\n",
       "        vertical-align: top;\n",
       "    }\n",
       "\n",
       "    .dataframe thead th {\n",
       "        text-align: right;\n",
       "    }\n",
       "</style>\n",
       "<table border=\"1\" class=\"dataframe\">\n",
       "  <thead>\n",
       "    <tr style=\"text-align: right;\">\n",
       "      <th></th>\n",
       "      <th>Account Owner</th>\n",
       "      <th>Account Name</th>\n",
       "      <th>Billing State/Province (text only)</th>\n",
       "      <th>co</th>\n",
       "    </tr>\n",
       "  </thead>\n",
       "  <tbody>\n",
       "    <tr>\n",
       "      <th>0</th>\n",
       "      <td>John Smith</td>\n",
       "      <td>Example 1 - Lowkey Enterprises</td>\n",
       "      <td>Iowa</td>\n",
       "      <td>example1lowkey</td>\n",
       "    </tr>\n",
       "    <tr>\n",
       "      <th>1</th>\n",
       "      <td>John Smith</td>\n",
       "      <td>Example 1 - Lowkey</td>\n",
       "      <td>Iowa</td>\n",
       "      <td>example1lowkey</td>\n",
       "    </tr>\n",
       "    <tr>\n",
       "      <th>2</th>\n",
       "      <td>John Smith</td>\n",
       "      <td>Example 1 - Lowkey Enterprises, Inc.</td>\n",
       "      <td>Iowa</td>\n",
       "      <td>example1lowkey</td>\n",
       "    </tr>\n",
       "  </tbody>\n",
       "</table>\n",
       "</div>"
      ],
      "text/plain": [
       "  Account Owner                          Account Name  \\\n",
       "0    John Smith        Example 1 - Lowkey Enterprises   \n",
       "1    John Smith                    Example 1 - Lowkey   \n",
       "2    John Smith  Example 1 - Lowkey Enterprises, Inc.   \n",
       "\n",
       "  Billing State/Province (text only)              co  \n",
       "0                               Iowa  example1lowkey  \n",
       "1                               Iowa  example1lowkey  \n",
       "2                               Iowa  example1lowkey  "
      ]
     },
     "execution_count": 9,
     "metadata": {},
     "output_type": "execute_result"
    }
   ],
   "source": [
    "## Creating a subset with exact duplicates prior to searching for fuzzy matches. These exact duplicates\n",
    "## are stored in a dataframe called exact_dups.\n",
    "\n",
    "duplicate_indices = acct[acct['co'].duplicated(keep=False)].index.tolist()\n",
    "exact_dups = acct.loc[duplicate_indices]\n",
    "\n",
    "exact_dups.head()"
   ]
  },
  {
   "cell_type": "code",
   "execution_count": 10,
   "id": "8e49703f",
   "metadata": {
    "execution": {
     "iopub.execute_input": "2023-05-16T14:08:55.366950Z",
     "iopub.status.busy": "2023-05-16T14:08:55.366302Z",
     "iopub.status.idle": "2023-05-16T14:08:55.372860Z",
     "shell.execute_reply": "2023-05-16T14:08:55.371924Z"
    },
    "papermill": {
     "duration": 0.018044,
     "end_time": "2023-05-16T14:08:55.375069",
     "exception": false,
     "start_time": "2023-05-16T14:08:55.357025",
     "status": "completed"
    },
    "tags": []
   },
   "outputs": [
    {
     "data": {
      "text/plain": [
       "(3, 4)"
      ]
     },
     "execution_count": 10,
     "metadata": {},
     "output_type": "execute_result"
    }
   ],
   "source": [
    "## Viewing shape of exact duplicates. This will tell us how many exact duplicates were found.\n",
    "\n",
    "exact_dups.shape"
   ]
  },
  {
   "cell_type": "code",
   "execution_count": 11,
   "id": "1e0b35fb",
   "metadata": {
    "execution": {
     "iopub.execute_input": "2023-05-16T14:08:55.392980Z",
     "iopub.status.busy": "2023-05-16T14:08:55.392268Z",
     "iopub.status.idle": "2023-05-16T14:08:55.409413Z",
     "shell.execute_reply": "2023-05-16T14:08:55.408297Z"
    },
    "papermill": {
     "duration": 0.028862,
     "end_time": "2023-05-16T14:08:55.411757",
     "exception": false,
     "start_time": "2023-05-16T14:08:55.382895",
     "status": "completed"
    },
    "tags": []
   },
   "outputs": [
    {
     "data": {
      "text/html": [
       "<div>\n",
       "<style scoped>\n",
       "    .dataframe tbody tr th:only-of-type {\n",
       "        vertical-align: middle;\n",
       "    }\n",
       "\n",
       "    .dataframe tbody tr th {\n",
       "        vertical-align: top;\n",
       "    }\n",
       "\n",
       "    .dataframe thead th {\n",
       "        text-align: right;\n",
       "    }\n",
       "</style>\n",
       "<table border=\"1\" class=\"dataframe\">\n",
       "  <thead>\n",
       "    <tr style=\"text-align: right;\">\n",
       "      <th></th>\n",
       "      <th>Account Owner</th>\n",
       "      <th>Account Name</th>\n",
       "      <th>Billing State/Province (text only)</th>\n",
       "      <th>co</th>\n",
       "    </tr>\n",
       "  </thead>\n",
       "  <tbody>\n",
       "    <tr>\n",
       "      <th>3</th>\n",
       "      <td>Jane Smith</td>\n",
       "      <td>Example 2 - Rational Workings</td>\n",
       "      <td>Minnesota</td>\n",
       "      <td>example2rationalworkings</td>\n",
       "    </tr>\n",
       "    <tr>\n",
       "      <th>4</th>\n",
       "      <td>Jane Smith</td>\n",
       "      <td>Example 2 - Ratoinal Wrokings</td>\n",
       "      <td>Minnesota</td>\n",
       "      <td>example2ratoinalwrokings</td>\n",
       "    </tr>\n",
       "    <tr>\n",
       "      <th>5</th>\n",
       "      <td>Jane Smith</td>\n",
       "      <td>Example 2 - Rational Workings, LTD</td>\n",
       "      <td>Minnesota</td>\n",
       "      <td>example2rationalworkingsltd</td>\n",
       "    </tr>\n",
       "  </tbody>\n",
       "</table>\n",
       "</div>"
      ],
      "text/plain": [
       "  Account Owner                        Account Name  \\\n",
       "3    Jane Smith       Example 2 - Rational Workings   \n",
       "4    Jane Smith       Example 2 - Ratoinal Wrokings   \n",
       "5    Jane Smith  Example 2 - Rational Workings, LTD   \n",
       "\n",
       "  Billing State/Province (text only)                           co  \n",
       "3                          Minnesota     example2rationalworkings  \n",
       "4                          Minnesota     example2ratoinalwrokings  \n",
       "5                          Minnesota  example2rationalworkingsltd  "
      ]
     },
     "execution_count": 11,
     "metadata": {},
     "output_type": "execute_result"
    }
   ],
   "source": [
    "## Removing exact duplicates from the original dataframe before we proceed to search for fuzzy matches.\n",
    "\n",
    "duplicate_indices = acct[acct['co'].duplicated(keep=False)].index.tolist()\n",
    "non_dup_subset = acct.loc[~acct.index.isin(duplicate_indices)]\n",
    "non_dup_subset.head()\n"
   ]
  },
  {
   "cell_type": "code",
   "execution_count": 12,
   "id": "e1f2b97d",
   "metadata": {
    "execution": {
     "iopub.execute_input": "2023-05-16T14:08:55.430309Z",
     "iopub.status.busy": "2023-05-16T14:08:55.429657Z",
     "iopub.status.idle": "2023-05-16T14:08:55.436235Z",
     "shell.execute_reply": "2023-05-16T14:08:55.435181Z"
    },
    "papermill": {
     "duration": 0.018739,
     "end_time": "2023-05-16T14:08:55.438609",
     "exception": false,
     "start_time": "2023-05-16T14:08:55.419870",
     "status": "completed"
    },
    "tags": []
   },
   "outputs": [
    {
     "data": {
      "text/plain": [
       "(3, 4)"
      ]
     },
     "execution_count": 12,
     "metadata": {},
     "output_type": "execute_result"
    }
   ],
   "source": [
    "## Viewing shape of the non-duplicates to see how many rows we have left.\n",
    "\n",
    "non_dup_subset.shape"
   ]
  },
  {
   "cell_type": "code",
   "execution_count": 13,
   "id": "b2cabcd1",
   "metadata": {
    "execution": {
     "iopub.execute_input": "2023-05-16T14:08:55.457409Z",
     "iopub.status.busy": "2023-05-16T14:08:55.457039Z",
     "iopub.status.idle": "2023-05-16T14:08:55.479174Z",
     "shell.execute_reply": "2023-05-16T14:08:55.477954Z"
    },
    "papermill": {
     "duration": 0.034502,
     "end_time": "2023-05-16T14:08:55.481665",
     "exception": false,
     "start_time": "2023-05-16T14:08:55.447163",
     "status": "completed"
    },
    "tags": []
   },
   "outputs": [],
   "source": [
    "## Performing fuzzy matching. The number `90` in the line `if r[1] >= 90:` can be adjusted. This sets the tolerance\n",
    "## for the fuzzy matching. This algorithm rates fuzzy matches on a scale of 0 to 100. So this algorithm will take\n",
    "## anything that scores 90 or more on the fuzzy scale and store it in a fuzzy_dups dataframe. At the end of this\n",
    "## process, if you find that there are too many non-duplicates in the dataframe, you can rerun the job with a\n",
    "## higher tolerance and vice-versa if there are too many duplicates.\n",
    "\n",
    "import pandas as pd\n",
    "from fuzzywuzzy import fuzz, process\n",
    "\n",
    "fuzzy_dups = []\n",
    "\n",
    "for i, row in non_dup_subset.iterrows():\n",
    "    choices = non_dup_subset['co'].drop(i)\n",
    "    ratios = process.extract(row['co'], choices, scorer=fuzz.token_sort_ratio)\n",
    "    for r in ratios:\n",
    "        if r[1] >= 90:\n",
    "            fuzzy_dups.append({'co1': row['co'], 'co2': r[0], 'score': r[1]})\n",
    "\n",
    "fuzzy_dups = pd.concat([pd.DataFrame(x, index=[0]) for x in fuzzy_dups], ignore_index=True)\n"
   ]
  },
  {
   "cell_type": "code",
   "execution_count": 14,
   "id": "0c49407a",
   "metadata": {
    "execution": {
     "iopub.execute_input": "2023-05-16T14:08:55.500125Z",
     "iopub.status.busy": "2023-05-16T14:08:55.499731Z",
     "iopub.status.idle": "2023-05-16T14:08:55.506213Z",
     "shell.execute_reply": "2023-05-16T14:08:55.505157Z"
    },
    "papermill": {
     "duration": 0.018485,
     "end_time": "2023-05-16T14:08:55.508491",
     "exception": false,
     "start_time": "2023-05-16T14:08:55.490006",
     "status": "completed"
    },
    "tags": []
   },
   "outputs": [
    {
     "data": {
      "text/plain": [
       "(4, 3)"
      ]
     },
     "execution_count": 14,
     "metadata": {},
     "output_type": "execute_result"
    }
   ],
   "source": [
    "## Viewing shape of fuzzy duplicates dataframe to see how many fuzzy duplicates were identified. This is represented\n",
    "## as `(rows, columns)` in the output.\n",
    "\n",
    "fuzzy_dups.shape"
   ]
  },
  {
   "cell_type": "code",
   "execution_count": 15,
   "id": "5d655b66",
   "metadata": {
    "execution": {
     "iopub.execute_input": "2023-05-16T14:08:55.527466Z",
     "iopub.status.busy": "2023-05-16T14:08:55.527104Z",
     "iopub.status.idle": "2023-05-16T14:08:55.541575Z",
     "shell.execute_reply": "2023-05-16T14:08:55.540826Z"
    },
    "papermill": {
     "duration": 0.026888,
     "end_time": "2023-05-16T14:08:55.543775",
     "exception": false,
     "start_time": "2023-05-16T14:08:55.516887",
     "status": "completed"
    },
    "tags": []
   },
   "outputs": [
    {
     "data": {
      "text/html": [
       "<div>\n",
       "<style scoped>\n",
       "    .dataframe tbody tr th:only-of-type {\n",
       "        vertical-align: middle;\n",
       "    }\n",
       "\n",
       "    .dataframe tbody tr th {\n",
       "        vertical-align: top;\n",
       "    }\n",
       "\n",
       "    .dataframe thead th {\n",
       "        text-align: right;\n",
       "    }\n",
       "</style>\n",
       "<table border=\"1\" class=\"dataframe\">\n",
       "  <thead>\n",
       "    <tr style=\"text-align: right;\">\n",
       "      <th></th>\n",
       "      <th>Account Owner</th>\n",
       "      <th>Account Name</th>\n",
       "      <th>Billing State/Province (text only)</th>\n",
       "      <th>co</th>\n",
       "    </tr>\n",
       "  </thead>\n",
       "  <tbody>\n",
       "    <tr>\n",
       "      <th>3</th>\n",
       "      <td>Jane Smith</td>\n",
       "      <td>Example 2 - Rational Workings</td>\n",
       "      <td>Minnesota</td>\n",
       "      <td>example2rationalworkings</td>\n",
       "    </tr>\n",
       "    <tr>\n",
       "      <th>4</th>\n",
       "      <td>Jane Smith</td>\n",
       "      <td>Example 2 - Ratoinal Wrokings</td>\n",
       "      <td>Minnesota</td>\n",
       "      <td>example2ratoinalwrokings</td>\n",
       "    </tr>\n",
       "    <tr>\n",
       "      <th>5</th>\n",
       "      <td>Jane Smith</td>\n",
       "      <td>Example 2 - Rational Workings, LTD</td>\n",
       "      <td>Minnesota</td>\n",
       "      <td>example2rationalworkingsltd</td>\n",
       "    </tr>\n",
       "  </tbody>\n",
       "</table>\n",
       "</div>"
      ],
      "text/plain": [
       "  Account Owner                        Account Name  \\\n",
       "3    Jane Smith       Example 2 - Rational Workings   \n",
       "4    Jane Smith       Example 2 - Ratoinal Wrokings   \n",
       "5    Jane Smith  Example 2 - Rational Workings, LTD   \n",
       "\n",
       "  Billing State/Province (text only)                           co  \n",
       "3                          Minnesota     example2rationalworkings  \n",
       "4                          Minnesota     example2ratoinalwrokings  \n",
       "5                          Minnesota  example2rationalworkingsltd  "
      ]
     },
     "execution_count": 15,
     "metadata": {},
     "output_type": "execute_result"
    }
   ],
   "source": [
    "## This code block creates a new dataframe called fuzzy_dups_2 that will be your fuzzy duplicates ending dataframe. \n",
    "## It will be called fuzzy_dups_2\n",
    "\n",
    "# Get all unique values of co1 and co2 in fuzzy_dups\n",
    "fuzzy_dups_values = pd.concat([fuzzy_dups['co1'], fuzzy_dups['co2']]).unique()\n",
    "\n",
    "# Filter contacts where the co value is in fuzzy_dups_values\n",
    "fuzzy_dups_2 = acct[acct['co'].isin(fuzzy_dups_values)]\n",
    "\n",
    "fuzzy_dups_2.head()"
   ]
  },
  {
   "cell_type": "code",
   "execution_count": 16,
   "id": "390f0315",
   "metadata": {
    "execution": {
     "iopub.execute_input": "2023-05-16T14:08:55.563889Z",
     "iopub.status.busy": "2023-05-16T14:08:55.563438Z",
     "iopub.status.idle": "2023-05-16T14:08:55.570766Z",
     "shell.execute_reply": "2023-05-16T14:08:55.569421Z"
    },
    "papermill": {
     "duration": 0.020071,
     "end_time": "2023-05-16T14:08:55.573144",
     "exception": false,
     "start_time": "2023-05-16T14:08:55.553073",
     "status": "completed"
    },
    "tags": []
   },
   "outputs": [
    {
     "data": {
      "text/plain": [
       "(3, 4)"
      ]
     },
     "execution_count": 16,
     "metadata": {},
     "output_type": "execute_result"
    }
   ],
   "source": [
    "## The final shape view of the fuzzy_dups_2 dataframe will show how many entries you're working with. \n",
    "\n",
    "fuzzy_dups_2.shape"
   ]
  },
  {
   "cell_type": "code",
   "execution_count": 17,
   "id": "9e2c11bf",
   "metadata": {
    "execution": {
     "iopub.execute_input": "2023-05-16T14:08:55.592604Z",
     "iopub.status.busy": "2023-05-16T14:08:55.592193Z",
     "iopub.status.idle": "2023-05-16T14:08:55.604071Z",
     "shell.execute_reply": "2023-05-16T14:08:55.602926Z"
    },
    "papermill": {
     "duration": 0.024655,
     "end_time": "2023-05-16T14:08:55.606665",
     "exception": false,
     "start_time": "2023-05-16T14:08:55.582010",
     "status": "completed"
    },
    "tags": []
   },
   "outputs": [],
   "source": [
    "## Exporting the exact dups and fuzzy dups to csv files.\n",
    "\n",
    "fuzzy_dups_2.to_csv('fuzzy_dups_acct_3.csv',index=True)\n",
    "exact_dups.to_csv('exact_dups_acct.csv',index=True)"
   ]
  },
  {
   "cell_type": "markdown",
   "id": "d27c7a12",
   "metadata": {
    "papermill": {
     "duration": 0.008502,
     "end_time": "2023-05-16T14:08:55.624221",
     "exception": false,
     "start_time": "2023-05-16T14:08:55.615719",
     "status": "completed"
    },
    "tags": []
   },
   "source": [
    "# Regarding the exported csv files:\n",
    "## The exact dups csv file is good to go. The fuzzy dups file will need to be gone through with a human eye to\n",
    "## search for what is actually a fuzzy match and what is not. Open the csv file in Excel and sort by the 'co'\n",
    "## column. Then go through visually and look for fuzzy matches in the 'Account Name' column of the dataframe. \n",
    "## Delete anything that is not a fuzzy match. The leftovers will be all of your fuzzy matches. You can then combine\n",
    "## the two dataframes into one final duplicates report. "
   ]
  }
 ],
 "metadata": {
  "kernelspec": {
   "display_name": "Python 3",
   "language": "python",
   "name": "python3"
  },
  "language_info": {
   "codemirror_mode": {
    "name": "ipython",
    "version": 3
   },
   "file_extension": ".py",
   "mimetype": "text/x-python",
   "name": "python",
   "nbconvert_exporter": "python",
   "pygments_lexer": "ipython3",
   "version": "3.10.10"
  },
  "papermill": {
   "default_parameters": {},
   "duration": 16.206809,
   "end_time": "2023-05-16T14:08:56.655929",
   "environment_variables": {},
   "exception": null,
   "input_path": "__notebook__.ipynb",
   "output_path": "__notebook__.ipynb",
   "parameters": {},
   "start_time": "2023-05-16T14:08:40.449120",
   "version": "2.4.0"
  }
 },
 "nbformat": 4,
 "nbformat_minor": 5
}
